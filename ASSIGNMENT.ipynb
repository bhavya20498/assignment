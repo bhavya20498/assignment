{
 "cells": [
  {
   "cell_type": "code",
   "execution_count": 7,
   "id": "b9eb22e5-51d2-4aba-a493-d94f2f2701bc",
   "metadata": {},
   "outputs": [],
   "source": [
    "##questn 1 _answer: Guido van Rossum developed python programming language"
   ]
  },
  {
   "cell_type": "code",
   "execution_count": 8,
   "id": "a8f78e29-79d7-4027-92d1-c1bad6d6c522",
   "metadata": {},
   "outputs": [],
   "source": [
    "# 2 answer:object orientd and structured programming "
   ]
  },
  {
   "cell_type": "code",
   "execution_count": 9,
   "id": "518003c8-f770-4100-860f-0d989f41c26f",
   "metadata": {},
   "outputs": [],
   "source": [
    "# 3 answer: yes ,python is case sensitive when dealing with identifiers"
   ]
  },
  {
   "cell_type": "code",
   "execution_count": 10,
   "id": "ca290428-2866-4313-acb6-be8a3d9d3239",
   "metadata": {},
   "outputs": [],
   "source": [
    "# 4 ans: .py,.pyi "
   ]
  },
  {
   "cell_type": "code",
   "execution_count": 11,
   "id": "a8867a53-cde6-4e9a-8085-1eb5cd403477",
   "metadata": {},
   "outputs": [],
   "source": [
    "#5 ans:python code is interpreted "
   ]
  },
  {
   "cell_type": "code",
   "execution_count": 12,
   "id": "e8569953-5eb5-4c16-9acd-12f1ab5efb13",
   "metadata": {},
   "outputs": [],
   "source": [
    "#6 ans:"
   ]
  },
  {
   "cell_type": "code",
   "execution_count": 13,
   "id": "a0acb703-ae68-4f9e-9472-d40af784beca",
   "metadata": {},
   "outputs": [],
   "source": [
    "#7 ans: # is used to give single line comment in python"
   ]
  },
  {
   "cell_type": "code",
   "execution_count": 1,
   "id": "76dfde33-acc8-4143-ad97-4ff6800ffdce",
   "metadata": {},
   "outputs": [
    {
     "data": {
      "text/plain": [
       "' ans: using sys.version method\\nusing python_version()function\\nusing python-v command'"
      ]
     },
     "execution_count": 1,
     "metadata": {},
     "output_type": "execute_result"
    }
   ],
   "source": [
    "\"\"\"8 ans: using sys.version method\n",
    "using python_version()function\n",
    "using python-v command\"\"\""
   ]
  },
  {
   "cell_type": "code",
   "execution_count": 2,
   "id": "ff506f81-70f2-4c73-9066-5f1e5d8e32a5",
   "metadata": {},
   "outputs": [],
   "source": [
    "# 9 ans:lambda"
   ]
  },
  {
   "cell_type": "code",
   "execution_count": 3,
   "id": "8f7379d8-5b0d-49c0-8562-7111b452e878",
   "metadata": {},
   "outputs": [],
   "source": [
    "# 10 ans:preferred installer program"
   ]
  },
  {
   "cell_type": "code",
   "execution_count": 4,
   "id": "9534026c-69b4-434d-a800-d28a692d828b",
   "metadata": {},
   "outputs": [],
   "source": [
    "#11 ans: list(),set(),int(),float(),continue "
   ]
  },
  {
   "cell_type": "code",
   "execution_count": 5,
   "id": "fa16c8a8-2dd8-4c68-bd83-150f036f5f86",
   "metadata": {},
   "outputs": [],
   "source": [
    "#12 ANS: 79 characters"
   ]
  },
  {
   "cell_type": "code",
   "execution_count": 7,
   "id": "bc129e7e-f594-4314-88c6-3c6bd9748ff0",
   "metadata": {},
   "outputs": [
    {
     "data": {
      "text/plain": [
       "'13 ans:python inbuilt libraries help to reduce \\ncoding errors,easy to learn for beginners.Pyhon is interpreted language\\ndynamically typed.'"
      ]
     },
     "execution_count": 7,
     "metadata": {},
     "output_type": "execute_result"
    }
   ],
   "source": [
    "'''13 ans:python inbuilt libraries help to reduce \n",
    "coding errors,easy to learn for beginners.Pyhon is interpreted language\n",
    "dynamically typed.'''"
   ]
  },
  {
   "cell_type": "code",
   "execution_count": 8,
   "id": "7cd3d4f9-40cb-41ed-8569-109684f48e68",
   "metadata": {},
   "outputs": [],
   "source": [
    "#14 ans: don't know "
   ]
  },
  {
   "cell_type": "code",
   "execution_count": 9,
   "id": "a42479a5-7390-4186-b91b-a22267107070",
   "metadata": {},
   "outputs": [
    {
     "data": {
      "text/plain": [
       "\"15 ans:1.right click pc and go to property\\n2.click on advanced system setting in the mwnu on the left\\n3.click on environment variables \\n4.in the system variables section,select path variablesand click on edit\\nthe next screen will show all the directories that are currently a part of the path variable\\n5.click on new and entering python's install directory\""
      ]
     },
     "execution_count": 9,
     "metadata": {},
     "output_type": "execute_result"
    }
   ],
   "source": [
    "'''15 ans:1.right click pc and go to property\n",
    "2.click on advanced system setting in the mwnu on the left\n",
    "3.click on environment variables \n",
    "4.in the system variables section,select path variablesand click on edit\n",
    "the next screen will show all the directories that are currently a part of the path variable\n",
    "5.click on new and entering python's install directory'''\n",
    "\n"
   ]
  },
  {
   "cell_type": "code",
   "execution_count": null,
   "id": "2bebded5-add2-41ed-b289-b174e72139fd",
   "metadata": {},
   "outputs": [],
   "source": [
    "#16 ans:yes, indentation is required in p"
   ]
  }
 ],
 "metadata": {
  "kernelspec": {
   "display_name": "Python 3 (ipykernel)",
   "language": "python",
   "name": "python3"
  },
  "language_info": {
   "codemirror_mode": {
    "name": "ipython",
    "version": 3
   },
   "file_extension": ".py",
   "mimetype": "text/x-python",
   "name": "python",
   "nbconvert_exporter": "python",
   "pygments_lexer": "ipython3",
   "version": "3.10.6"
  }
 },
 "nbformat": 4,
 "nbformat_minor": 5
}
