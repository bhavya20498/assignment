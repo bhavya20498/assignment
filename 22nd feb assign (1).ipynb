{
 "cells": [
  {
   "cell_type": "code",
   "execution_count": 4,
   "id": "2d1f88d2-b23b-4e4d-b25b-515b7e88545d",
   "metadata": {},
   "outputs": [],
   "source": [
    "import pandas as pd"
   ]
  },
  {
   "cell_type": "code",
   "execution_count": 7,
   "id": "6a55d1b9-49bd-4266-b22c-275fb42b9715",
   "metadata": {},
   "outputs": [
    {
     "name": "stdout",
     "output_type": "stream",
     "text": [
      "0     4\n",
      "1     8\n",
      "2    15\n",
      "3    16\n",
      "4    23\n",
      "5    42\n",
      "dtype: int64\n"
     ]
    }
   ],
   "source": [
    "'''1 ans'''\n",
    "s=pd.Series([4,8,15,16,23,42])\n",
    "print(s)"
   ]
  },
  {
   "cell_type": "code",
   "execution_count": 9,
   "id": "da4a8d38-8ab8-4d3f-b38a-b6c3929ca825",
   "metadata": {},
   "outputs": [
    {
     "name": "stdout",
     "output_type": "stream",
     "text": [
      "0    1\n",
      "1    2\n",
      "2    3\n",
      "3    4\n",
      "4    5\n",
      "5    6\n",
      "6    7\n",
      "7    8\n",
      "8    9\n",
      "9    5\n",
      "dtype: int64\n"
     ]
    }
   ],
   "source": [
    "'''2 ans'''\n",
    "l=[1,2,3,4,5,6,7,8,9,5]\n",
    "print(pd.Series(l))"
   ]
  },
  {
   "cell_type": "code",
   "execution_count": 5,
   "id": "27df8a57-66e3-4002-bad0-18df4fda23ba",
   "metadata": {},
   "outputs": [
    {
     "name": "stdout",
     "output_type": "stream",
     "text": [
      "     name  Age  Gender\n",
      "0   Alice   25  Female\n",
      "1     Bob   30    Male\n",
      "2  Claire   27  Female\n"
     ]
    }
   ],
   "source": [
    "'''3 ans'''\n",
    "d={'name':['Alice','Bob','Claire'],\n",
    "   'Age':[25,30,27],\n",
    "   'Gender':['Female','Male','Female']\n",
    "}\n",
    "df=pd.DataFrame(d)\n",
    "print(df)"
   ]
  },
  {
   "cell_type": "code",
   "execution_count": null,
   "id": "fb4e3340-d8a4-4236-9cfb-84feaff8b721",
   "metadata": {},
   "outputs": [],
   "source": []
  },
  {
   "cell_type": "code",
   "execution_count": 22,
   "id": "05159215-ce1b-493d-b4f2-bfff802e0b9c",
   "metadata": {},
   "outputs": [
    {
     "name": "stdout",
     "output_type": "stream",
     "text": [
      "   Age  Gender\n",
      "0   25  Female\n",
      "1   30    Male\n",
      "2   27  Female \n",
      "\n",
      "0     Alice\n",
      "1       Bob\n",
      "2    Claire\n",
      "Name: name, dtype: object\n"
     ]
    },
    {
     "data": {
      "text/plain": [
       "'here df 1 is example of dataframe and df2 is example of series'"
      ]
     },
     "execution_count": 22,
     "metadata": {},
     "output_type": "execute_result"
    }
   ],
   "source": [
    "'''4ans'''\n",
    "'''Dataframe is 2 dimensional array  consisting of two or more series ,it is in tabular form contains rows and columns whereas series is one dimensional array containing values of any data type  of one column '''\n",
    "'''from above code if we find'''\n",
    "df1=df[['Age','Gender']]\n",
    "df2=df['name']\n",
    "print(df1,'\\n')\n",
    "print(df2)\n",
    "'''here df 1 is example of dataframe and df2 is example of series'''\n"
   ]
  },
  {
   "cell_type": "code",
   "execution_count": 8,
   "id": "614123c3-a0e3-4028-ae62-fcbe6186bc9f",
   "metadata": {},
   "outputs": [
    {
     "data": {
      "text/plain": [
       "'5ans\\ncommon functions that we can use to manipulate data in pandas are\\ndescribe(),shape,columns,info etc\\nwhen we want to get avg,mean,max,min etc of column having numerical data type we use describe.If we wish \\nto get no of rows and columns of dataframe we use shape.\\nWhen we want to fetch columns we use columns\\nWe use info if we wish to get columns and their datatypes '"
      ]
     },
     "execution_count": 8,
     "metadata": {},
     "output_type": "execute_result"
    }
   ],
   "source": [
    "'''5ans\n",
    "common functions that we can use to manipulate data in pandas are\n",
    "describe(),shape,columns,info etc\n",
    "when we want to get avg,mean,max,min etc of column having numerical data type we use describe.If we wish \n",
    "to get no of rows and columns of dataframe we use shape.\n",
    "When we want to fetch columns we use columns\n",
    "We use info if we wish to get columns and their datatypes '''\n"
   ]
  },
  {
   "cell_type": "code",
   "execution_count": 11,
   "id": "9dfbbd17-03fd-4f8e-913e-fe769ccadf1d",
   "metadata": {},
   "outputs": [
    {
     "data": {
      "text/html": [
       "<div>\n",
       "<style scoped>\n",
       "    .dataframe tbody tr th:only-of-type {\n",
       "        vertical-align: middle;\n",
       "    }\n",
       "\n",
       "    .dataframe tbody tr th {\n",
       "        vertical-align: top;\n",
       "    }\n",
       "\n",
       "    .dataframe thead th {\n",
       "        text-align: right;\n",
       "    }\n",
       "</style>\n",
       "<table border=\"1\" class=\"dataframe\">\n",
       "  <thead>\n",
       "    <tr style=\"text-align: right;\">\n",
       "      <th></th>\n",
       "      <th>num_1</th>\n",
       "      <th>num2</th>\n",
       "    </tr>\n",
       "  </thead>\n",
       "  <tbody>\n",
       "    <tr>\n",
       "      <th>0</th>\n",
       "      <td>1</td>\n",
       "      <td>6</td>\n",
       "    </tr>\n",
       "    <tr>\n",
       "      <th>1</th>\n",
       "      <td>2</td>\n",
       "      <td>7</td>\n",
       "    </tr>\n",
       "    <tr>\n",
       "      <th>2</th>\n",
       "      <td>3</td>\n",
       "      <td>8</td>\n",
       "    </tr>\n",
       "    <tr>\n",
       "      <th>3</th>\n",
       "      <td>4</td>\n",
       "      <td>9</td>\n",
       "    </tr>\n",
       "    <tr>\n",
       "      <th>4</th>\n",
       "      <td>5</td>\n",
       "      <td>4</td>\n",
       "    </tr>\n",
       "  </tbody>\n",
       "</table>\n",
       "</div>"
      ],
      "text/plain": [
       "   num_1  num2\n",
       "0      1     6\n",
       "1      2     7\n",
       "2      3     8\n",
       "3      4     9\n",
       "4      5     4"
      ]
     },
     "execution_count": 11,
     "metadata": {},
     "output_type": "execute_result"
    }
   ],
   "source": [
    "'''7ans'''\n",
    "l1=[1,2,3,4,5]\n",
    "l2=[6,7,8,9,4]\n",
    "'''we convert these lists into series and then will be converting these series into dataframe'''\n",
    "df1=pd.Series(l1)\n",
    "df2=pd.Series(l2)\n",
    "df={'num_1':df1,\n",
    "    'num2':df2\n",
    "}\n",
    "data=pd.DataFrame(df)\n",
    "data"
   ]
  },
  {
   "cell_type": "code",
   "execution_count": 13,
   "id": "cda9b0e6-d966-41d6-8fb0-e58067e7d51d",
   "metadata": {},
   "outputs": [
    {
     "data": {
      "text/plain": [
       "'6ans\\nDataFrame and panel are size mutable whereas series are immutable'"
      ]
     },
     "execution_count": 13,
     "metadata": {},
     "output_type": "execute_result"
    }
   ],
   "source": [
    "'''6ans\n",
    "DataFrame and panel are size mutable whereas series are immutable'''"
   ]
  },
  {
   "cell_type": "code",
   "execution_count": null,
   "id": "5d0168ec-2f9f-49be-83f4-ba32a83dfe77",
   "metadata": {},
   "outputs": [],
   "source": []
  }
 ],
 "metadata": {
  "kernelspec": {
   "display_name": "Python 3 (ipykernel)",
   "language": "python",
   "name": "python3"
  },
  "language_info": {
   "codemirror_mode": {
    "name": "ipython",
    "version": 3
   },
   "file_extension": ".py",
   "mimetype": "text/x-python",
   "name": "python",
   "nbconvert_exporter": "python",
   "pygments_lexer": "ipython3",
   "version": "3.10.6"
  }
 },
 "nbformat": 4,
 "nbformat_minor": 5
}
