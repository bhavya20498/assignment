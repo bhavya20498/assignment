{
 "cells": [
  {
   "cell_type": "code",
   "execution_count": 2,
   "id": "aa2fced8-d1e9-4ae0-a0bb-3454b9f91c05",
   "metadata": {},
   "outputs": [],
   "source": [
    "### 1 ans: probability density function shows the distribution of data for continuous random variables"
   ]
  },
  {
   "cell_type": "code",
   "execution_count": 5,
   "id": "f52098c1-74dd-47ff-9b57-346cbfb8e3b8",
   "metadata": {},
   "outputs": [],
   "source": [
    "### 2 ans: probability distribution has following types:\n",
    "##a) normal distribution\n",
    "###b) bernoulli distribution\n",
    "###c) binomial distribution\n",
    "###d) uniform distribution\n",
    "###e) log normal distribution\n",
    "###f) poisson distribution\n"
   ]
  },
  {
   "cell_type": "code",
   "execution_count": 9,
   "id": "99e2bffd-496c-4b15-9ee3-53d49c3419ea",
   "metadata": {},
   "outputs": [
    {
     "name": "stdout",
     "output_type": "stream",
     "text": [
      "probability density function of a normal distribution with mean 7 ,std deviation 2 at point x = 4 is 0.06475879783294587\n"
     ]
    }
   ],
   "source": [
    "### 3 ans:\n",
    "mean=7\n",
    "std=2\n",
    "x=4\n",
    "from scipy.stats import norm\n",
    "probab=norm.pdf(x,loc=mean,scale=std)\n",
    "print('probability density function of a normal distribution with mean', mean, ',std deviation', std, 'at point x =' ,x, 'is' ,probab,)"
   ]
  },
  {
   "cell_type": "code",
   "execution_count": 10,
   "id": "29d22b41-c6c3-403c-bdf9-4401ca133c2c",
   "metadata": {},
   "outputs": [],
   "source": [
    "###4 ans: properties of binomial function:\n",
    "### every event is independent\n",
    "### for each event output is binary\n",
    "### it is for discrete random variable\n",
    "### examples where binomial distribution can be applied like tossing ac coin, throwing a dice"
   ]
  },
  {
   "cell_type": "code",
   "execution_count": 17,
   "id": "355157db-94e1-4010-a5dc-2dcd8cefe742",
   "metadata": {},
   "outputs": [
    {
     "data": {
      "image/png": "[encoded data removed]",
      "text/plain": [
       "<Figure size 640x480 with 1 Axes>"
      ]
     },
     "metadata": {},
     "output_type": "display_data"
    }
   ],
   "source": [
    "### 5 ans\n",
    "import numpy as np\n",
    "import matplotlib.pyplot as plt\n",
    "p=0.4\n",
    "n=10\n",
    "data=np.random.binomial(n,p,size=1000)\n",
    "plt.hist(data)\n",
    "plt.show()"
   ]
  },
  {
   "cell_type": "code",
   "execution_count": 21,
   "id": "4cf12311-a4b7-489c-9b44-d710b6de1ecb",
   "metadata": {},
   "outputs": [
    {
     "data": {
      "text/plain": [
       "0.7621834629729387"
      ]
     },
     "execution_count": 21,
     "metadata": {},
     "output_type": "execute_result"
    }
   ],
   "source": [
    "### 6 ans\n",
    "mean=5\n",
    "from scipy.stats import poisson\n",
    "point=6\n",
    "poisson.cdf(k=point,mu=mean)"
   ]
  },
  {
   "cell_type": "code",
   "execution_count": 22,
   "id": "97cf1458-e522-49d9-ac0c-1cc6c2700fce",
   "metadata": {},
   "outputs": [],
   "source": [
    "### 7 ans\n",
    "### in binomial distribution outcome of each even is binary which is not the case of poisson distribution\n",
    "### in poisson distribution we have been given expected no of events to happen at every time interval\n"
   ]
  },
  {
   "cell_type": "code",
   "execution_count": 25,
   "id": "33f7229d-bf81-45df-b68a-d56c9f251d31",
   "metadata": {},
   "outputs": [
    {
     "data": {
      "text/plain": [
       "(4.999, 2.229125164722699)"
      ]
     },
     "execution_count": 25,
     "metadata": {},
     "output_type": "execute_result"
    }
   ],
   "source": [
    "### 8 ans\n",
    "import numpy as np\n",
    "from scipy.stats import poisson\n",
    "data= poisson.rvs(mu=5,size=1000)\n",
    "np.mean(data),np.std(data)\n"
   ]
  },
  {
   "cell_type": "code",
   "execution_count": 26,
   "id": "d8e32d23-f9ff-4fca-aadf-5cda02c6bd18",
   "metadata": {},
   "outputs": [],
   "source": [
    "### 9 ans\n",
    "### for binomial distribution if mean=p,then variance=p(1-p) where p is probability of success\n",
    "### whereas for poisson distribution if mean=l,which is expected no of events to occur at every time interval,then variance is also l "
   ]
  },
  {
   "cell_type": "code",
   "execution_count": null,
   "id": "4de3f49b-fdbf-422b-9af6-ee39177316de",
   "metadata": {},
   "outputs": [],
   "source": [
    "### 10 ans\n",
    "### when data is farther away from mean it is less frequent i.e.in the region in(area of 3rd std deviation-area of 2nd std deviation )"
   ]
  }
 ],
 "metadata": {
  "kernelspec": {
   "display_name": "Python 3 (ipykernel)",
   "language": "python",
   "name": "python3"
  },
  "language_info": {
   "codemirror_mode": {
    "name": "ipython",
    "version": 3
   },
   "file_extension": ".py",
   "mimetype": "text/x-python",
   "name": "python",
   "nbconvert_exporter": "python",
   "pygments_lexer": "ipython3",
   "version": "3.11.5"
  }
 },
 "nbformat": 4,
 "nbformat_minor": 5
}
