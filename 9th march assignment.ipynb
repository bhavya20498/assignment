{
 "cells": [
  {
   "cell_type": "code",
   "execution_count": 1,
   "id": "3d4c0b93-cebc-4145-9a20-a8658e3594d4",
   "metadata": {},
   "outputs": [],
   "source": [
    "### 1 ans: mean,meadian and mode are three measures of central tendency"
   ]
  },
  {
   "cell_type": "code",
   "execution_count": 2,
   "id": "09c299ce-50f3-4d10-b543-640aa8b09146",
   "metadata": {},
   "outputs": [],
   "source": [
    "### 2 ans: mean is the average of data points in the dataset,median is the point where 50% of data points are leass than or equal to that point given data points are arranged in ascending order\n",
    "### mode is the most frequent occuring data point in the dataset\n"
   ]
  },
  {
   "cell_type": "code",
   "execution_count": 19,
   "id": "963008a5-efe2-4f6d-9e9d-21d15aedf602",
   "metadata": {},
   "outputs": [
    {
     "data": {
      "text/plain": [
       "(177.01875, 177.0, [178, 177])"
      ]
     },
     "execution_count": 19,
     "metadata": {},
     "output_type": "execute_result"
    }
   ],
   "source": [
    "### 3 ans:\n",
    "l=[178,177,176,177,178.2,178,175,179,180,175,178.9,176.2,177,172.5,178,176.5]\n",
    "import numpy as np\n",
    "import statistics as st\n",
    "np.mean(l),np.median(l),st.multimode(l)\n"
   ]
  },
  {
   "cell_type": "code",
   "execution_count": 20,
   "id": "d580e0c5-d6e6-4ce3-8ec4-5681d9d2c58a",
   "metadata": {},
   "outputs": [
    {
     "data": {
      "text/plain": [
       "1.7885814036548633"
      ]
     },
     "execution_count": 20,
     "metadata": {},
     "output_type": "execute_result"
    }
   ],
   "source": [
    "### 4 ans:\n",
    "l=[178,177,176,177,178.2,178,175,179,180,175,178.9,176.2,177,172.5,178,176.5]\n",
    "np.std(l)\n"
   ]
  },
  {
   "cell_type": "code",
   "execution_count": 21,
   "id": "39914dee-d722-41da-8386-c9e94db373d3",
   "metadata": {},
   "outputs": [],
   "source": [
    "###5 ans:range is difference of maximum and min value of data in dataset\n",
    "### std deviation is spread of data about mean\n",
    "### variance also shows spread of data and given by measuring distance of observed values from mean of distribution\n"
   ]
  },
  {
   "cell_type": "code",
   "execution_count": 22,
   "id": "bbf81e57-cda1-4937-b819-4a8c3f7b27a0",
   "metadata": {},
   "outputs": [],
   "source": [
    "### 6 ans:\n",
    "### A Venn diagram  uses circles to show the relationships among things or finite groups of things\n"
   ]
  },
  {
   "cell_type": "code",
   "execution_count": 23,
   "id": "8ec007e7-d8ac-48f1-905d-eb3d9fa558ef",
   "metadata": {},
   "outputs": [],
   "source": [
    "### 7 ans:\n",
    "### A = (2,3,4,5,6,7) & B = (0,2,6,8,10).\n",
    "### AUB=(0,2,3,4,5,6,7,8,10)\n",
    "### A (INTERSECTION) B =(2,6)"
   ]
  },
  {
   "cell_type": "code",
   "execution_count": 24,
   "id": "250e091c-4b78-4f5b-8b96-910ef3ce6414",
   "metadata": {},
   "outputs": [],
   "source": [
    "### 8 ans:\n",
    "### skewness means they are not equally distributed about mean either they are having more data points in left side or right side of mean\n"
   ]
  },
  {
   "cell_type": "code",
   "execution_count": 25,
   "id": "5206cdcf-a04a-47c8-a9be-17d37b0a4190",
   "metadata": {},
   "outputs": [],
   "source": [
    "### 9 ans:\n",
    "### in right skewed data , median < mean"
   ]
  },
  {
   "cell_type": "code",
   "execution_count": 26,
   "id": "806d910d-a970-4627-b9c4-de7e964d3a96",
   "metadata": {},
   "outputs": [],
   "source": [
    "###10 ans: covariance showis relationship between two or more variables and it does not have any limit,so we can not say which two random variables are showing strong positive covariance as compared to others\n",
    "### while corelation is also showing relationship between two variables and it is limited to (-1,+1).if corelation is more towards +1 we can say these two variales are highly positively corelated"
   ]
  },
  {
   "cell_type": "code",
   "execution_count": 28,
   "id": "cb34636c-eb2b-46c6-ae5d-2ef25ab1409c",
   "metadata": {},
   "outputs": [],
   "source": [
    "### 11 ans: \n",
    "###sample mean= sum of data points of sample/no of data pts\n",
    "### eg:A = (2,3,4,5,6,7)\n",
    "### mean=(2+3+4+5+6+7)/6=4.5"
   ]
  },
  {
   "cell_type": "code",
   "execution_count": 29,
   "id": "4f3b19eb-22a6-48c7-94cd-6640b3fd7b68",
   "metadata": {},
   "outputs": [],
   "source": [
    "### 12 ans: for normal distribution of data relationship betn measure of central tendency=\n",
    "### mean=median=mode"
   ]
  },
  {
   "cell_type": "code",
   "execution_count": 30,
   "id": "18ee0564-ca3c-4def-b6bb-b6229f7ed8d6",
   "metadata": {},
   "outputs": [],
   "source": [
    "### 13 ans: covariance showis relationship between two or more variables and it does not have any limit,so we can not say which two random variables are showing strong positive covariance as compared to others\n",
    "### while corelation is also showing relationship between two variables and it is limited to (-1,+1).if corelation is more towards +1 we can say these two variales are highly positively corelated"
   ]
  },
  {
   "cell_type": "code",
   "execution_count": 31,
   "id": "35d8b9cc-9f1b-4dee-8d49-ed0e71ce9f72",
   "metadata": {},
   "outputs": [],
   "source": [
    "### 14 ans: presence of outliers deviate mean towards itself\n",
    "### Also outliers affect dispersion as range is stronly affected by presence of outliers and also std deviation is senstive to outliers"
   ]
  },
  {
   "cell_type": "code",
   "execution_count": null,
   "id": "8c4908d7-a979-4d78-9176-042ef9231dbc",
   "metadata": {},
   "outputs": [],
   "source": []
  }
 ],
 "metadata": {
  "kernelspec": {
   "display_name": "Python 3 (ipykernel)",
   "language": "python",
   "name": "python3"
  },
  "language_info": {
   "codemirror_mode": {
    "name": "ipython",
    "version": 3
   },
   "file_extension": ".py",
   "mimetype": "text/x-python",
   "name": "python",
   "nbconvert_exporter": "python",
   "pygments_lexer": "ipython3",
   "version": "3.11.5"
  }
 },
 "nbformat": 4,
 "nbformat_minor": 5
}
