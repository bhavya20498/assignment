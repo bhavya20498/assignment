{
 "cells": [
  {
   "cell_type": "code",
   "execution_count": 6,
   "id": "ad8562ec-772f-4d79-a2d1-c44ad580f8c4",
   "metadata": {},
   "outputs": [],
   "source": [
    "list_=['1','2','3','4','5']"
   ]
  },
  {
   "cell_type": "code",
   "execution_count": 26,
   "id": "fbc0f5d1-1bb5-4ef0-b812-845fb83d247f",
   "metadata": {},
   "outputs": [],
   "source": [
    "import numpy as np\n",
    "array_list=np.array(object=list_)"
   ]
  },
  {
   "cell_type": "code",
   "execution_count": 27,
   "id": "99876e2b-daf2-486d-b5fb-b3af0097905b",
   "metadata": {},
   "outputs": [
    {
     "data": {
      "text/plain": [
       "array(['1', '2', '3', '4', '5'], dtype='<U1')"
      ]
     },
     "execution_count": 27,
     "metadata": {},
     "output_type": "execute_result"
    }
   ],
   "source": [
    "array_list"
   ]
  },
  {
   "cell_type": "code",
   "execution_count": 12,
   "id": "8e3a4d22-aed2-47a5-8eb3-6fec924caac2",
   "metadata": {},
   "outputs": [
    {
     "data": {
      "text/plain": [
       "list"
      ]
     },
     "execution_count": 12,
     "metadata": {},
     "output_type": "execute_result"
    }
   ],
   "source": [
    "'''1 ans\n",
    "yes,there is difference between data  type of variables list_ (it is of data type list ) where as array_list has data type string '''\n",
    "type(list_)\n",
    "\n"
   ]
  },
  {
   "cell_type": "code",
   "execution_count": 28,
   "id": "017fd7cc-3ddc-480d-9409-b39907d9deb9",
   "metadata": {},
   "outputs": [
    {
     "data": {
      "text/plain": [
       "dtype('<U1')"
      ]
     },
     "execution_count": 28,
     "metadata": {},
     "output_type": "execute_result"
    }
   ],
   "source": [
    "'''1 ans'''\n",
    "array_list.dtype"
   ]
  },
  {
   "cell_type": "code",
   "execution_count": 15,
   "id": "8517d2ac-ca50-4ff7-a491-f45451efaacf",
   "metadata": {},
   "outputs": [
    {
     "name": "stdout",
     "output_type": "stream",
     "text": [
      "<class 'str'>\n",
      "<class 'str'>\n",
      "<class 'str'>\n",
      "<class 'str'>\n",
      "<class 'str'>\n"
     ]
    }
   ],
   "source": [
    "'''2 ans ,code for finding data type of each and every element of variable list_'''\n",
    "for i in list_:\n",
    "    print( type(i))"
   ]
  },
  {
   "cell_type": "code",
   "execution_count": 29,
   "id": "714e6040-58bd-466a-812a-973d38b03fe9",
   "metadata": {},
   "outputs": [
    {
     "name": "stdout",
     "output_type": "stream",
     "text": [
      "<class 'numpy.str_'>\n",
      "<class 'numpy.str_'>\n",
      "<class 'numpy.str_'>\n",
      "<class 'numpy.str_'>\n",
      "<class 'numpy.str_'>\n"
     ]
    }
   ],
   "source": [
    "'''2 ans ,code for finding data type of each and every element of variable array_list'''\n",
    "for i in array_list:\n",
    "    print(type(i))\n"
   ]
  },
  {
   "cell_type": "code",
   "execution_count": 30,
   "id": "e3198a24-dd8e-4b6d-9f9d-b602a4b04f5d",
   "metadata": {},
   "outputs": [],
   "source": [
    "'''3 ans'''\n",
    "array_list=np.array(object=list_,dtype=int)\n"
   ]
  },
  {
   "cell_type": "code",
   "execution_count": 32,
   "id": "2c0bdf95-2373-4eb7-8bb8-4b672bc11fd1",
   "metadata": {},
   "outputs": [
    {
     "name": "stdout",
     "output_type": "stream",
     "text": [
      "<class 'str'>\n",
      "<class 'str'>\n",
      "<class 'str'>\n",
      "<class 'str'>\n",
      "<class 'str'>\n"
     ]
    }
   ],
   "source": [
    "'''3 ans yes,the data type of the elements present in list_ is string whereas data type of element present in array_list \n",
    "int'''\n",
    "for i in list_:\n",
    "    print(type(i))"
   ]
  },
  {
   "cell_type": "code",
   "execution_count": 34,
   "id": "beb5c004-d8eb-4cee-97ac-fb5de7c15e3a",
   "metadata": {},
   "outputs": [
    {
     "name": "stdout",
     "output_type": "stream",
     "text": [
      "<class 'numpy.int64'>\n",
      "<class 'numpy.int64'>\n",
      "<class 'numpy.int64'>\n",
      "<class 'numpy.int64'>\n",
      "<class 'numpy.int64'>\n"
     ]
    }
   ],
   "source": [
    "'''3 ans code for finding data type of each element of variable array_list'''\n",
    "for i in array_list:\n",
    "    print(type(i))"
   ]
  },
  {
   "cell_type": "code",
   "execution_count": 35,
   "id": "ce91d4e9-27d1-4ef0-8e90-913e88052744",
   "metadata": {},
   "outputs": [],
   "source": [
    "num_list=[[1,2,3],[4,5,6]]\n",
    "num_array=np.array(object=num_list)"
   ]
  },
  {
   "cell_type": "code",
   "execution_count": 38,
   "id": "976971f2-53c7-4358-9d6c-5913ddf8c0fc",
   "metadata": {},
   "outputs": [
    {
     "data": {
      "text/plain": [
       "(2, 3)"
      ]
     },
     "execution_count": 38,
     "metadata": {},
     "output_type": "execute_result"
    }
   ],
   "source": [
    "'''4ans'''\n",
    "num_array.shape\n"
   ]
  },
  {
   "cell_type": "code",
   "execution_count": 39,
   "id": "9d1cb3ae-d74a-426f-ac91-2d66cae05e24",
   "metadata": {},
   "outputs": [
    {
     "data": {
      "text/plain": [
       "6"
      ]
     },
     "execution_count": 39,
     "metadata": {},
     "output_type": "execute_result"
    }
   ],
   "source": [
    "'''4ans'''\n",
    "num_array.size"
   ]
  },
  {
   "cell_type": "code",
   "execution_count": null,
   "id": "bf3cbe87-3a4f-4777-a793-959e791abbe6",
   "metadata": {},
   "outputs": [],
   "source": [
    "'''5ans'''\n",
    "array=np.zeros(())"
   ]
  }
 ],
 "metadata": {
  "kernelspec": {
   "display_name": "Python 3 (ipykernel)",
   "language": "python",
   "name": "python3"
  },
  "language_info": {
   "codemirror_mode": {
    "name": "ipython",
    "version": 3
   },
   "file_extension": ".py",
   "mimetype": "text/x-python",
   "name": "python",
   "nbconvert_exporter": "python",
   "pygments_lexer": "ipython3",
   "version": "3.10.6"
  }
 },
 "nbformat": 4,
 "nbformat_minor": 5
}
